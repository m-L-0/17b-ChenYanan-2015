{
 "cells": [
  {
   "cell_type": "markdown",
   "metadata": {},
   "source": [
    "## 1. 将数据集划分成训练集、验证集、测试集并存储成TFRecord文件"
   ]
  },
  {
   "cell_type": "code",
   "execution_count": 3,
   "metadata": {},
   "outputs": [
    {
     "name": "stdout",
     "output_type": "stream",
     "text": [
      "Extracting data_initial/train-images-idx3-ubyte.gz\n",
      "Extracting data_initial/train-labels-idx1-ubyte.gz\n",
      "Extracting data_initial/t10k-images-idx3-ubyte.gz\n",
      "Extracting data_initial/t10k-labels-idx1-ubyte.gz\n",
      "successful\n"
     ]
    }
   ],
   "source": [
    "import numpy as np\n",
    "from PIL import Image\n",
    "import tensorflow as tf\n",
    "import matplotlib.pyplot as plt\n",
    "from tensorflow.examples.tutorials.mnist import input_data\n",
    "\n",
    "\n",
    "# 将训练集和测试集分为训练集、验证集和测试集\n",
    "data = input_data.read_data_sets('data_initial',           # 读取的时候规定好dtype\n",
    "                                    dtype=tf.uint8,\n",
    "                                    reshape=False,\n",
    "                                ) \n",
    "\n",
    "\n",
    "#  转为tfrecord文件\n",
    "# 路径\n",
    "config = [{'dir': 'data_initial/train/', 'type': 'train'},\n",
    "          {'dir': 'data_initial/validation/', 'type': 'validation'},\n",
    "          {'dir': 'data_initial/test/', 'type': 'test'},\n",
    "          ]\n",
    "\n",
    "for each in range(len(config)):\n",
    "    mnist_dir = config[each]['dir']\n",
    "    mnist_type = config[each]['type']\n",
    "    # tfrecord格式文件名\n",
    "    with tf.python_io.TFRecordWriter('mnist_' + mnist_type + '.tfrecords') as writer:\n",
    "        image_path = data[each].images\n",
    "        for num_images in range(image_path.shape[0]):\n",
    "            image_byte = data[each].images[num_images].tobytes()\n",
    "            label = data[each].labels[num_images]\n",
    "            example = tf.train.Example(features=tf.train.Features(feature={  \n",
    "                    \"label\": tf.train.Feature(int64_list=tf.train.Int64List(value=[int(label)])),  \n",
    "                    'data': tf.train.Feature(bytes_list=tf.train.BytesList(value=[image_byte]))  \n",
    "                }))\n",
    "            writer.write(example.SerializeToString())\n",
    "print('successful')"
   ]
  },
  {
   "cell_type": "markdown",
   "metadata": {},
   "source": [
    "## 2.利用matplotlib等工具对TFRecord中的样本数据进行可视化，以验证存储在TFRecord文件中的样本与标记的完整性与对应性，并对数据集有个直观的认识。\n",
    "\n",
    "\n",
    "\n",
    "### 2.1 读取tfrecord中代码，并转化为矩阵的函数（有正确率提高5%左右的改进）"
   ]
  },
  {
   "cell_type": "code",
   "execution_count": 3,
   "metadata": {
    "collapsed": true
   },
   "outputs": [],
   "source": [
    "import tensorflow as tf\n",
    "from PIL import Image\n",
    "import numpy as np\n",
    "\n",
    "\n",
    "def read_tfrecord(config_dir, num = 1):   \n",
    "    # 读取tfrecord代码      \n",
    "    filename_queue = tf.train.string_input_producer([config_dir])    # 创建输入队列，读入流中\n",
    "    reader = tf.TFRecordReader()\n",
    "    _, example = reader.read(filename_queue)  # 返回文件名和文件\n",
    "\n",
    "    # 取出包含有image 和 label的feature对象\n",
    "    features = tf.parse_single_example(example,\n",
    "                                        features={'label': tf.FixedLenFeature([], tf.int64),\n",
    "                                                    'data': tf.FixedLenFeature([], tf.string)})  # 将对应的内存块读为张量流\n",
    "    image = tf.decode_raw(features['data'], tf.uint8)  # tf.decode_raw可以将字符串解析成图像对应的像素组\n",
    "    image = tf.cast(image, tf.float32)    # 解码之后转数据类型 \n",
    "    image = tf.reshape(image, [28, 28])\n",
    "    label = tf.cast(features['label'], tf.int32)  # 类型转换\n",
    "    # 随机读取数据，验证图片对应正确性\n",
    "    image_batch, label_batch = tf.train.shuffle_batch([image, label],\n",
    "                                                        batch_size=1,\n",
    "                                                        capacity=100,\n",
    "                                                        min_after_dequeue=50)\n",
    "\n",
    "    # 开始一个会话\n",
    "    with tf.Session() as sess:\n",
    "        exm_images = np.zeros((num, 784))\n",
    "        exm_labels = np.zeros((num, 1))\n",
    "\n",
    "        init = tf.group(tf.global_variables_initializer(), tf.local_variables_initializer())\n",
    "        sess.run(init)\n",
    "        # 启动多线程\n",
    "        coord = tf.train.Coordinator()\n",
    "        threads = tf.train.start_queue_runners(sess=sess, coord=coord)\n",
    "        for count in range(num):\n",
    "\n",
    "            image, label = sess.run([image_batch, label_batch])  # 在会话中取出image和label\n",
    "            img = image.reshape([28, 28])  # 这里要reshape因为默认一个批次处理的数据会外层嵌套一层\n",
    "            img = img.astype(np.uint8)  # PIL保存时，必须是整数\n",
    "            if num == 1:\n",
    "                coord.request_stop()  \n",
    "                coord.join(threads)\n",
    "                return img, label       # 在进行图片验证时使用\n",
    "            else:\n",
    "                image = image.reshape(784)\n",
    "                # for i in range(784):\n",
    "                #     # if image[i] > 127:\n",
    "                #     #     image[i] = 1\n",
    "                #     # else:\n",
    "                #     #     image[i] = 0     # 改进 ： 会让正确率提高5% 左右\n",
    "                image = image / 255\n",
    "                exm_images[count, :] = image\n",
    "                exm_labels[count, :] = label\n",
    "                if count % 10000 == 0:\n",
    "                    print(count)\n",
    "        coord.request_stop()  \n",
    "        coord.join(threads)\n",
    "    return exm_images, exm_labels        # 在进行算法读取数据矩阵时使用\n",
    "     "
   ]
  },
  {
   "cell_type": "markdown",
   "metadata": {},
   "source": [
    "### 2.2 将读取到的数据可视化"
   ]
  },
  {
   "cell_type": "code",
   "execution_count": 5,
   "metadata": {},
   "outputs": [
    {
     "name": "stdout",
     "output_type": "stream",
     "text": [
      "[3] "
     ]
    },
    {
     "data": {
      "image/png": "[encoded data removed]",
      "text/plain": [
       "<matplotlib.figure.Figure at 0x7f579a020e10>"
      ]
     },
     "metadata": {},
     "output_type": "display_data"
    },
    {
     "name": "stdout",
     "output_type": "stream",
     "text": [
      "[1] "
     ]
    },
    {
     "data": {
      "image/png": "[encoded data removed]",
      "text/plain": [
       "<matplotlib.figure.Figure at 0x7f5796f70b00>"
      ]
     },
     "metadata": {},
     "output_type": "display_data"
    },
    {
     "name": "stdout",
     "output_type": "stream",
     "text": [
      "[7] "
     ]
    },
    {
     "data": {
      "image/png": "[encoded data removed]",
      "text/plain": [
       "<matplotlib.figure.Figure at 0x7f5796e484a8>"
      ]
     },
     "metadata": {},
     "output_type": "display_data"
    },
    {
     "name": "stdout",
     "output_type": "stream",
     "text": [
      "[2] "
     ]
    },
    {
     "data": {
      "image/png": "[encoded data removed]",
      "text/plain": [
       "<matplotlib.figure.Figure at 0x7f5796df4a58>"
      ]
     },
     "metadata": {},
     "output_type": "display_data"
    },
    {
     "name": "stdout",
     "output_type": "stream",
     "text": [
      "[5] "
     ]
    },
    {
     "data": {
      "image/png": "[encoded data removed]",
      "text/plain": [
       "<matplotlib.figure.Figure at 0x7f5796d2bd68>"
      ]
     },
     "metadata": {},
     "output_type": "display_data"
    },
    {
     "name": "stdout",
     "output_type": "stream",
     "text": [
      "[0] "
     ]
    },
    {
     "data": {
      "image/png": "[encoded data removed]",
      "text/plain": [
       "<matplotlib.figure.Figure at 0x7f5796bc7d68>"
      ]
     },
     "metadata": {},
     "output_type": "display_data"
    },
    {
     "name": "stdout",
     "output_type": "stream",
     "text": [
      "[1] "
     ]
    },
    {
     "data": {
      "image/png": "[encoded data removed]",
      "text/plain": [
       "<matplotlib.figure.Figure at 0x7f5792653b38>"
      ]
     },
     "metadata": {},
     "output_type": "display_data"
    },
    {
     "name": "stdout",
     "output_type": "stream",
     "text": [
      "[2] "
     ]
    },
    {
     "data": {
      "image/png": "[encoded data removed]",
      "text/plain": [
       "<matplotlib.figure.Figure at 0x7f5790636c88>"
      ]
     },
     "metadata": {},
     "output_type": "display_data"
    },
    {
     "name": "stdout",
     "output_type": "stream",
     "text": [
      "[1] "
     ]
    },
    {
     "data": {
      "image/png": "[encoded data removed]",
      "text/plain": [
       "<matplotlib.figure.Figure at 0x7f5792704048>"
      ]
     },
     "metadata": {},
     "output_type": "display_data"
    }
   ],
   "source": [
    "# 读取tfrecord代码 , 并验证\n",
    "for each in range(len(config)):\n",
    "    config_path = 'mnist_' + config[each]['type'] + '.tfrecords'\n",
    "    for num in range(3):\n",
    "        [img, label] = read_tfrecord(config_path)\n",
    "        sub = int('33' + str(3*each + 1 + num))\n",
    "        print(label, end=' ')\n",
    "        plt.subplot(sub)\n",
    "        plt.imshow(img, cmap='gray')\n",
    "        plt.show()         "
   ]
  },
  {
   "cell_type": "markdown",
   "metadata": {},
   "source": [
    "## 3.设计并训练KNN算法对图片进行分类"
   ]
  },
  {
   "cell_type": "code",
   "execution_count": 6,
   "metadata": {},
   "outputs": [
    {
     "name": "stdout",
     "output_type": "stream",
     "text": [
      "step 1: load data...\n",
      "0\n",
      "10000\n",
      "20000\n",
      "30000\n",
      "40000\n",
      "50000\n",
      "0\n",
      "step 2: testing...\n",
      "0\n",
      "100\n",
      "200\n",
      "300\n",
      "400\n",
      "step 3: show the result...\n",
      "The classify accuracy is: 88.00%\n"
     ]
    }
   ],
   "source": [
    "from numpy import *\n",
    "import operator\n",
    "import os\n",
    "\n",
    "# 分类函数\n",
    "\n",
    "def kNNClassify(newInput, dataSet, labels, k):\n",
    "    numSamples = dataSet.shape[0]  # shape[0] stands for the num of row\n",
    "  \n",
    "    # step 1:计算欧式距离\n",
    "    diff = tile(newInput, (numSamples, 1)) - dataSet # 单个测试样本与训练样本中的每一个数据做比较\n",
    "    squaredDiff = diff ** 2 \n",
    "    squaredDist = sum(squaredDiff, axis = 1) \n",
    "    distance = squaredDist ** 0.5\n",
    "  \n",
    "    # step 2: 对距离进行分类\n",
    "    sortedDistIndices = argsort(distance)     # 将x中的元素从小到大排列，提取其对应的index(索引)，然后输出到y\n",
    "  \n",
    "    classCount = {} \n",
    "    for i in range(k):\n",
    "        # step 3: 找最小距离\n",
    "        voteLabel = labels[sortedDistIndices[i]][0]\n",
    "  \n",
    "        # step 4: 分类与次数一一对应\n",
    "        classCount[voteLabel] = classCount.get(voteLabel, 0) + 1\n",
    "    # step 5: 返回投票结果\n",
    "    maxCount = 0\n",
    "    for key, value in classCount.items():\n",
    "        if value > maxCount:\n",
    "            maxCount = value\n",
    "            maxIndex = key\n",
    "    return maxIndex\n",
    "\n",
    "\n",
    "# 分类正确率\n",
    "def testHandWritingClass():\n",
    "    print(\"step 1: load data...\")\n",
    "    [train_x, train_y] = read_tfrecord('mnist_train.tfrecords', 55000)\n",
    "    [test_x, test_y] = read_tfrecord('mnist_test.tfrecords', 500)\n",
    "    \n",
    "     \n",
    "    print(\"step 2: testing...\")\n",
    "    numTestSamples = test_x.shape[0]\n",
    "    matchCount = 0\n",
    "    for i in range(numTestSamples):\n",
    "        predict = kNNClassify(test_x[i], train_x, train_y, 5)\n",
    "        if predict == test_y[i]:\n",
    "            matchCount += 1\n",
    "        if i % 100 == 0:\n",
    "            print(i)\n",
    "    accuracy = float(matchCount) / numTestSamples\n",
    "\n",
    "    print(\"step 3: show the result...\") \n",
    "    print('The classify accuracy is: %.2f%%' % (accuracy * 100))\n",
    "\n",
    "testHandWritingClass()\n"
   ]
  },
  {
   "cell_type": "markdown",
   "metadata": {},
   "source": [
    "## 4. 设计并训练K-Means算法对图片进行聚类。"
   ]
  },
  {
   "cell_type": "code",
   "execution_count": 3,
   "metadata": {},
   "outputs": [
    {
     "name": "stdout",
     "output_type": "stream",
     "text": [
      "0\n",
      "迭代次数 0\n",
      "迭代次数 1\n",
      "迭代次数 2\n",
      "迭代次数 3\n",
      "迭代次数 4\n",
      "迭代次数 5\n",
      "迭代次数 6\n",
      "迭代次数 7\n",
      "迭代次数 8\n",
      "迭代次数 9\n",
      "迭代次数 10\n",
      "迭代次数 11\n",
      "迭代次数 12\n",
      "迭代次数 13\n",
      "迭代次数 14\n",
      "迭代次数 15\n",
      "迭代次数 16\n",
      "迭代次数 17\n",
      "迭代次数 18\n",
      "迭代次数 19\n",
      "[array([ 7.05993557, -2.70343399]), array([-0.68891263, -0.00077361]), array([ 2.83054304,  3.81508303]), array([ 6.07010555,  2.00236368]), array([-0.07463504,  5.06325531]), array([-3.56224871, -4.16163635]), array([-3.24616647,  3.12645507]), array([ 0.87645352, -5.54367018]), array([-6.24179792, -0.42718276]), array([ 3.20638084, -1.27282405])]\n"
     ]
    },
    {
     "data": {
      "image/png": "[encoded data removed]",
      "text/plain": [
       "<matplotlib.figure.Figure at 0x7f6376072048>"
      ]
     },
     "metadata": {},
     "output_type": "display_data"
    }
   ],
   "source": [
    "import numpy as np\n",
    "from numpy import array\n",
    "import tensorflow as tf\n",
    "import matplotlib.pyplot as plt\n",
    "from random import choice, shuffle\n",
    "\n",
    "\n",
    "\n",
    "# 实现主成分分析\n",
    "\n",
    "def pca(data_mat, top_n_feat=99999999):\n",
    "    # 获取数据条数和每条的维数\n",
    "    num_data, dim = data_mat.shape\n",
    "\n",
    "    # 数据中心化，即指变量减去它的均值\n",
    "    mean_vals = data_mat.mean(axis=0)  # shape:(784,)\n",
    "    mean_removed = data_mat - mean_vals  # shape:(5000, 784)\n",
    "\n",
    "    cov_mat = np.cov(mean_removed, rowvar=0)    # 计算协方差矩阵\n",
    "\n",
    "    # 计算特征值(Find eigenvalues and eigenvectors)\n",
    "    eig_vals, eig_vects = np.linalg.eig(np.mat(cov_mat))  # 计算特征值和特征向量\n",
    "\n",
    "    eig_val_index = np.argsort(eig_vals)  # 对特征值进行从小到大排序，argsort返回的是索引，即下标\n",
    "\n",
    "    eig_val_index = eig_val_index[:-(top_n_feat + 1): -1]  # 最大的前top_n_feat个特征的索引\n",
    "    reg_eig_vects = eig_vects[:, eig_val_index] \n",
    "\n",
    "    # 将数据转到新空间\n",
    "    low_d_data_mat = mean_removed * reg_eig_vects\n",
    "    recon_mat = (low_d_data_mat * reg_eig_vects.T) + mean_vals  # 根据前几个特征向量重构回去的矩阵，shape:(5000, 784)\n",
    "\n",
    "    return low_d_data_mat, recon_mat\n",
    "\n",
    "\n",
    "# 实现k-means 算法\n",
    "\n",
    "def KMeansCluster(vector, noofclusters):\n",
    "    noofclusters = int(noofclusters)\n",
    "    assert noofclusters < len(vector)\n",
    "\n",
    "    # 找出每个向量的维度\n",
    "    num_data, dim = vector.shape\n",
    "    # 将复数矩阵转换为浮点数矩阵\n",
    "    vectors = np.zeros((num_data, 2))\n",
    "    for count in range(num_data):\n",
    "        temp = [vector.real[count, 0], vector.real[count, 1]]\n",
    "        vectors[count, :] = temp\n",
    "\n",
    "    # 辅助随机地从可得的向量中选取中心点\n",
    "    vector_indices = list(range(len(vectors)))\n",
    "    shuffle(vector_indices)\n",
    "\n",
    "    # 计算图\n",
    "    # 创建一个默认的计算流的图用于整个算法中，这样就保证了当函数被多次调用时，默认的图并不会被从上一次调用时留下的未使用的OPS或者Variables挤满\n",
    "    graph = tf.Graph()\n",
    "    with graph.as_default():\n",
    "        # 计算的会话\n",
    "        sess = tf.Session()\n",
    "        # 构建基本的计算的元素\n",
    "        # 首先需要保证每个中心点都会存在一个Variable矩阵\n",
    "        # 从现有的点集合中抽取出一部分作为默认的中心点\n",
    "        centroids = [tf.Variable((vectors[vector_indices[i]]))\n",
    "                     for i in range(noofclusters)]\n",
    "        # 创建一个placeholder用于存放各个中心点可能的分类的情况\n",
    "        centroid_value = tf.placeholder(\"float64\", [dim])\n",
    "        cent_assigns = []\n",
    "        for centroid in centroids:\n",
    "            cent_assigns.append(tf.assign(centroid, centroid_value))\n",
    "        # 对于每个独立向量的分属的类别设置为默认值0\n",
    "        assignments = [tf.Variable(0) for i in range(len(vectors))]\n",
    "        # 这些节点在后续的操作中会被分配到合适的值\n",
    "        assignment_value = tf.placeholder(\"int32\")\n",
    "        cluster_assigns = []\n",
    "        for assignment in assignments:\n",
    "            cluster_assigns.append(tf.assign(assignment,\n",
    "                                             assignment_value))\n",
    "        # 下面创建用于计算平均值的操作节点\n",
    "        # 输入的placeholder\n",
    "        mean_input = tf.placeholder(\"float\", [None, dim])\n",
    "        # 节点/OP接受输入，并且计算0维度的平均值，譬如输入的向量列表\n",
    "        mean_op = tf.reduce_mean(mean_input, 0)\n",
    "        # 用于计算欧几里得距离的节点\n",
    "        v1 = tf.placeholder(\"float\", [dim])\n",
    "        v2 = tf.placeholder(\"float\", [dim])\n",
    "        euclid_dist = tf.sqrt(tf.reduce_sum(tf.pow(tf.subtract(\n",
    "            v1, v2), 2)))\n",
    "        # 这个OP会决定应该将向量归属到哪个节点\n",
    "        # 基于向量到中心点的欧几里得距离\n",
    "        # Placeholder for input\n",
    "        centroid_distances = tf.placeholder(\"float\", [noofclusters])\n",
    "        cluster_assignment = tf.argmin(centroid_distances, 0)\n",
    "        # 初始化所有的状态值\n",
    "        # 这会帮助初始化图中定义的所有Variables。Variable-initializer应该定义在所有的Variables被构造之后，这样所有的Variables才会被纳入初始化\n",
    "        init_op = tf.global_variables_initializer()\n",
    "        # 初始化所有的变量\n",
    "        sess.run(init_op)\n",
    "        # 集群遍历\n",
    "        # 接下来在K-Means聚类迭代中使用最大期望算法。为了简单起见，只让它执行固定的次数，而不设置一个终止条件\n",
    "        noofiterations = 20\n",
    "        for iteration_n in range(noofiterations):\n",
    "            print('迭代次数', iteration_n)\n",
    "\n",
    "            # 期望步骤\n",
    "            # 基于上次迭代后算出的中心点的未知\n",
    "            # the _expected_ centroid assignments.\n",
    "            # 首先遍历所有的向量\n",
    "            for vector_n in range(len(vectors)):\n",
    "                vect = vectors[vector_n]\n",
    "                # 计算给定向量与分配的中心节点之间的欧几里得距离\n",
    "                distances = [sess.run(euclid_dist, feed_dict={\n",
    "                    v1: vect, v2: sess.run(centroid)})\n",
    "                             for centroid in centroids]   \n",
    "                # 下面可以使用集群分配操作，将上述的距离当做输入\n",
    "                assignment = sess.run(cluster_assignment, feed_dict = {\n",
    "                    centroid_distances: distances})\n",
    "                # 接下来为每个向量分配合适的值\n",
    "                sess.run(cluster_assigns[vector_n], feed_dict={\n",
    "                    assignment_value: assignment})\n",
    "            # 最大化的步骤\n",
    "            # 基于上述的期望步骤，计算每个新的中心点的距离从而使集群内的平方和最小\n",
    "            for cluster_n in range(noofclusters):\n",
    "                # 收集所有分配给该集群的向量\n",
    "                assigned_vects = [vectors[i] for i in range(len(vectors))\n",
    "                                  if sess.run(assignments[i]) == cluster_n]\n",
    "                # 计算新的集群中心点\n",
    "                new_location = sess.run(mean_op, feed_dict={\n",
    "                    mean_input: array(assigned_vects)})\n",
    "                # 为每个向量分配合适的中心点\n",
    "                sess.run(cent_assigns[cluster_n], feed_dict={\n",
    "                    centroid_value: new_location})\n",
    "        # 返回中心节点和分组\n",
    "        centroids = sess.run(centroids)\n",
    "        assignments = sess.run(assignments)\n",
    "        return centroids, assignments\n",
    "\n",
    "\n",
    "# 获取数据\n",
    "[data_mat, data_label] = read_tfrecord('mnist_train.tfrecords', 5000)\n",
    "\n",
    "# 只取最重要的两个特征\n",
    "low_2_mat, recon_784_mat = pca(data_mat, 2)\n",
    "\n",
    "# 获取中心点 \n",
    "k = 10\n",
    "center, result = KMeansCluster(low_2_mat, k)\n",
    "print(center)\n",
    "\n",
    "# 画出聚类结果，每一类用一种颜色\n",
    "colors = ['b', 'g', 'r', 'k', 'c', 'm', 'y', '#e24fff', '#524C90', '#845868']\n",
    "n_clusters = 10\n",
    "for i in range(n_clusters):\n",
    "    indexs = [index for index in range(5000) if result[index] == i]\n",
    "    x0 = low_2_mat[indexs, 0]\n",
    "    x1 = low_2_mat[indexs, 1]\n",
    "    y_i = data_label[indexs]\n",
    "    for j in range(len(x0)):\n",
    "        plt.text(x0[j], x1[j], str(int(y_i[j])), color=colors[i], \n",
    "                fontdict={'weight': 'bold', 'size': 9})\n",
    "    plt.scatter(center[i][0], center[i][1], marker='x', color=colors[i], linewidths=12)\n",
    "plt.axis([-10, 10, -10, 10])\n",
    "plt.show()\n"
   ]
  },
  {
   "cell_type": "markdown",
   "metadata": {
    "collapsed": true
   },
   "source": [
    "## 5.设计并训练NN算法对图片进行分类。"
   ]
  },
  {
   "cell_type": "code",
   "execution_count": null,
   "metadata": {},
   "outputs": [
    {
     "name": "stdout",
     "output_type": "stream",
     "text": [
      "0\n"
     ]
    }
   ],
   "source": [
    "import os\n",
    "import random\n",
    "import numpy as np\n",
    "import tensorflow as tf\n",
    "\n",
    "# 设置按需使用GPU\n",
    "config = tf.ConfigProto()\n",
    "config.gpu_options.allow_growth = True\n",
    "sess = tf.InteractiveSession(config=config)   # 启动计算图\n",
    "\n",
    "# 导入数据\n",
    "train_x, train_y = read_tfrecord('mnist_train.tfrecords', 55000)\n",
    "test_x, test_y = read_tfrecord('mnist_test.tfrecords', 10000)\n",
    "\n",
    "# 将  _y（labels）转换为one-hot 类型\n",
    "# 1.转换函数\n",
    "def dense_to_one_hot(labels_dense, num_classes=10):\n",
    "    labels_dense = labels_dense.astype(np.uint8)   # 转换数据类型\n",
    "    num_labels = labels_dense.shape[0]\n",
    "    index_offset = np.arange(num_labels) * num_classes\n",
    "    labels_one_hot = np.zeros((num_labels, num_classes))\n",
    "    labels_one_hot.flat[index_offset + labels_dense.ravel()] = 1\n",
    "    return labels_one_hot\n",
    "# 2.函数实现\n",
    "train_y = dense_to_one_hot(train_y, 10)\n",
    "test_y = dense_to_one_hot(test_y, 10)\n",
    "print(train_y.shape)\n",
    "print(test_y.shape)\n",
    "\n",
    "\n",
    "# min_next_batch_tfr(随机批次载入数据)\n",
    "def min_next_batch_tfr(image, label, num=50): \n",
    "    images = np.zeros((num, 784))\n",
    "    labels = np.zeros((num, 10))\n",
    "    for i in range(num):\n",
    "        temp = random.randint(0, 54999)\n",
    "        images[i, :] = image[temp]\n",
    "        labels[i, :] = label[temp]\n",
    "\n",
    "    return images, labels\n",
    "\n",
    "\n",
    "# 参数保存目录\n",
    "FLAGS = tf.app.flags.FLAGS\n",
    "# Basic model parameters.\n",
    "tf.app.flags.DEFINE_string('cnn_path', './cnn_model', \"\"\"存放模型的目录\"\"\")\n",
    "\n",
    "tf.app.flags.DEFINE_string('cnn_parameters', 'mnist',\"\"\"模型的名称\"\"\")\n",
    "\n",
    "\n",
    "# 构建网络, 写为函数，可以在网络中方便调用\n",
    "\n",
    "# 权值初始化，随机选取，返回的值中不会偏离均值的两倍差\n",
    "def weight_variable(shape):\n",
    "    # 用正态分布来初始化权值\n",
    "    initial = tf.truncated_normal(shape, stddev=0.1)\n",
    "    return tf.Variable(initial)\n",
    "\n",
    "# 偏值的初始化\n",
    "def bias_variable(shape):\n",
    "    # 本例中用relu激活函数，所以用一个很小的正偏置较好\n",
    "    initial = tf.constant(0.1, shape=shape)\n",
    "    return tf.Variable(initial)\n",
    "\n",
    "# 定义卷积层\n",
    "def conv2d(x, W):\n",
    "    # 默认 strides[0]=strides[3]=1, strides[1]为x方向步长，strides[2]为y方向步长\n",
    "    return tf.nn.conv2d(x, W, strides=[1, 1, 1, 1], padding='SAME')    # 返回feature map\n",
    "\n",
    "# 定义池化层\n",
    "def max_pool_2x2(x):\n",
    "    return tf.nn.max_pool(x, ksize=[1, 2, 2, 1], strides=[1, 2, 2, 1], padding='SAME')\n",
    "\n",
    "#模型文件所在的文件夹，是否存在，如果不存在，则创建文件夹\n",
    "ckpt = tf.train.latest_checkpoint(FLAGS.cnn_path)\n",
    "if not ckpt:\n",
    "    if not os.path.exists(FLAGS.cnn_path):\n",
    "        os.mkdir(FLAGS.cnn_path)\n",
    "\n",
    "# X_ 是手写图像的像素值， y是图像对应的标签\n",
    "X_ = tf.placeholder(tf.float32, [None, 784])\n",
    "y_ = tf.placeholder(tf.float32, [None, 10])\n",
    "\n",
    "# 把X转为卷积所需要的形式\n",
    "# 输入层为输入的灰度图像尺寸\n",
    "X = tf.reshape(X_, [-1, 28, 28, 1])\n",
    "# 第一层卷积：5×5×1卷积核32个 [5，5，1，32],h_conv1.shape=[-1, 28, 28, 32]\n",
    "W_conv1 = weight_variable([5, 5, 1, 32])  # 卷积核的大小、深度和数量\n",
    "b_conv1 = bias_variable([32])\n",
    "h_conv1 = tf.nn.relu(conv2d(X, W_conv1) + b_conv1)\n",
    "\n",
    "# 第一个池化层[-1, 28, 28, 32]->[-1, 14, 14, 32]\n",
    "h_pool1 = max_pool_2x2(h_conv1)\n",
    "\n",
    "# 第二层卷积：5×5×32卷积核64个 [5，5，32，64],h_conv2.shape=[-1, 14, 14, 64]\n",
    "W_conv2 = weight_variable([5, 5, 32, 64])  # 卷积核的大小、深度和数量\n",
    "b_conv2 = bias_variable([64])\n",
    "h_conv2 = tf.nn.relu(conv2d(h_pool1, W_conv2) + b_conv2)\n",
    "\n",
    "# 第二个池化层,[-1, 14, 14, 64]->[-1, 7, 7, 64] \n",
    "h_pool2 = max_pool_2x2(h_conv2)\n",
    "\n",
    "# flatten层，[-1, 7, 7, 64]->[-1, 7*7*64],即每个样本得到一个7*7*64维的样本\n",
    "h_pool2_flat = tf.reshape(h_pool2, [-1, 7*7*64])\n",
    "\n",
    "# 全连接层，隐藏层节点为1024个\n",
    "# 权值初始化\n",
    "W_fc1 = weight_variable([7*7*64, 1024])\n",
    "b_fc1 = bias_variable([1024])\n",
    "h_fc1 = tf.nn.relu(tf.matmul(h_pool2_flat, W_fc1) + b_fc1)\n",
    "\n",
    "# 全连接隐藏层/输出层\n",
    "# 为了防止网络出现过拟合的情况,对全连接隐藏层进行 Dropout(正则化)处理,在训练过程中随机的丢弃部分\n",
    "# 节点的数据来防止过拟合.Dropout同把节点数据设置为0来丢弃一些特征值,仅在训练过程中,\n",
    "# 预测的时候,仍使用全数据特征\n",
    "# 传入丢弃节点数据的比例\n",
    "# dropout: 输出的维度和h_fc1一样，只是随机部分值被值为零\n",
    "keep_prob = tf.placeholder(tf.float32)   # 正则化，丢弃比例\n",
    "h_fc1_drop = tf.nn.dropout(h_fc1, keep_prob)\n",
    "\n",
    "# 输出层与全连接隐藏层之间\n",
    "# 隐藏层与输出层权重初始化\n",
    "W_fc2 = weight_variable([1024, 10])\n",
    "b_fc2 = bias_variable([10])\n",
    "\n",
    "# 激活后的输出\n",
    "y_conv = tf.nn.softmax(tf.matmul(h_fc1_drop, W_fc2) + b_fc2)\n",
    "\n",
    "\n",
    "# 训练和评估\n",
    "\n",
    "# 1.损失函数：cross_entropy  交叉熵代价函数\n",
    "cross_entropy = -tf.reduce_sum(y_*tf.log(y_conv))\n",
    "# 2.优化函数：AdamOptimizer\n",
    "train_step = tf.train.AdamOptimizer(1e-4).minimize(cross_entropy)\n",
    "\n",
    "# 3.预测准确结果统计\n",
    "# 预测值中最大值（１）即分类结果，是否等于原始标签中的（１）的位置。argmax()取最大值所在的下标\n",
    "correct_prediction = tf.equal(tf.argmax(y_conv, 1), tf.argmax(y_, 1))\n",
    "# 准确率\n",
    "accuracy = tf.reduce_mean(tf.cast(correct_prediction, \"float\"))\n",
    "\n",
    "# 保存\n",
    "saver = tf.train.Saver(max_to_keep=2)\n",
    "\n",
    "# 全局初始化\n",
    "sess.run(tf.global_variables_initializer())\n",
    "writer = tf.summary.FileWriter(FLAGS.cnn_path, sess.graph)\n",
    "\n",
    "ckpt = tf.train.latest_checkpoint(FLAGS.cnn_path)\n",
    "step = 0\n",
    "if ckpt:\n",
    "    saver.restore(sess=sess, save_path=ckpt)\n",
    "    step = int(ckpt[len(os.path.join(FLAGS.cnn_path, FLAGS.cnn_parameters)) + 1:])\n",
    "\n",
    "# 开启线程\n",
    "coord = tf.train.Coordinator()\n",
    "threads = tf.train.start_queue_runners(sess=sess, coord=coord)\n",
    "# 训练\n",
    "# for i in range(20000):   ## 20000\n",
    "#     batch = min_next_batch_tfr(train_x, train_y, 50)\n",
    "#     if i % 1000 == 0:   ## 1000\n",
    "#         train_accuracy = accuracy.eval(feed_dict={\n",
    "#              X_: batch[0], y_: batch[1], keep_prob: 1.0})\n",
    "#         print(\"step %d, training accuracy %g\" % (i, train_accuracy))\n",
    "#                 ckptname=os.path.join(FLAGS.cnn_path, FLAGS.cnn_parameters)\n",
    "#         saver.save(sess,ckptname,global_step=i)\n",
    "# train_step.run(feed_dict={X_: batch[0], y_: batch[1], keep_prob: 0.5})\n",
    "    \n",
    "for j in range(200):\n",
    "    testSample_start = j * 50      \n",
    "    testSample_end = (j + 1) * 50  \n",
    "    print('test %d accuracy %g' % (j, accuracy.eval(session=sess, feed_dict={\n",
    "        X_: test_x[testSample_start:testSample_end],\n",
    "        y_: test_y[testSample_start:testSample_end], keep_prob: 1.0})))  # f喂数据\n",
    "coord.request_stop() \n",
    "coord.join(threads)\n"
   ]
  },
  {
   "cell_type": "markdown",
   "metadata": {},
   "source": []
  }
 ],
 "metadata": {
  "kernelspec": {
   "display_name": "Python 3",
   "language": "python",
   "name": "python3"
  },
  "language_info": {
   "codemirror_mode": {
    "name": "ipython",
    "version": 3
   },
   "file_extension": ".py",
   "mimetype": "text/x-python",
   "name": "python",
   "nbconvert_exporter": "python",
   "pygments_lexer": "ipython3",
   "version": "3.6.2"
  }
 },
 "nbformat": 4,
 "nbformat_minor": 2
}
