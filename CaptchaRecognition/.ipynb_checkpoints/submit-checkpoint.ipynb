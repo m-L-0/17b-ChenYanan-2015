{
 "cells": [
  {
   "cell_type": "markdown",
   "metadata": {},
   "source": [
    "## 1.统计数据"
   ]
  },
  {
   "cell_type": "code",
   "execution_count": 3,
   "metadata": {},
   "outputs": [
    {
     "ename": "ImportError",
     "evalue": "cannot import name 'csv_txt'",
     "output_type": "error",
     "traceback": [
      "\u001b[0;31m---------------------------------------------------------------------------\u001b[0m",
      "\u001b[0;31mImportError\u001b[0m                               Traceback (most recent call last)",
      "\u001b[0;32m<ipython-input-3-f2a425d015ef>\u001b[0m in \u001b[0;36m<module>\u001b[0;34m()\u001b[0m\n\u001b[0;32m----> 1\u001b[0;31m \u001b[0;32mfrom\u001b[0m \u001b[0mcode\u001b[0m \u001b[0;32mimport\u001b[0m \u001b[0mcsv_txt\u001b[0m\u001b[0;34m\u001b[0m\u001b[0m\n\u001b[0m\u001b[1;32m      2\u001b[0m \u001b[0;32mfrom\u001b[0m \u001b[0mcsv_txt\u001b[0m \u001b[0;32mimport\u001b[0m \u001b[0mlabels_csv_numpy\u001b[0m\u001b[0;34m\u001b[0m\u001b[0m\n\u001b[1;32m      3\u001b[0m \u001b[0;32mimport\u001b[0m \u001b[0mmatplotlib\u001b[0m\u001b[0;34m.\u001b[0m\u001b[0mpyplot\u001b[0m \u001b[0;32mas\u001b[0m \u001b[0mplt\u001b[0m\u001b[0;34m\u001b[0m\u001b[0m\n\u001b[1;32m      4\u001b[0m \u001b[0;32mimport\u001b[0m \u001b[0mnumpy\u001b[0m \u001b[0;32mas\u001b[0m \u001b[0mnp\u001b[0m\u001b[0;34m\u001b[0m\u001b[0m\n\u001b[1;32m      5\u001b[0m \u001b[0;34m\u001b[0m\u001b[0m\n",
      "\u001b[0;31mImportError\u001b[0m: cannot import name 'csv_txt'"
     ]
    }
   ],
   "source": [
    "from code.csv_txt import labels_csv_numpy\n",
    "# from csv_txt import labels_csv_numpy\n",
    "import matplotlib.pyplot as plt\n",
    "import numpy as np\n",
    "\n",
    "# 导入数据\n",
    "labels = labels_csv_numpy()\n",
    "# 将数据转换为string\n",
    "labels = labels.astype(str)\n",
    "# 字典\n",
    "dict_data = {}\n",
    "for i in range(len(labels)):\n",
    "    length = len(labels[i])\n",
    "    dict_key = str(length) + 'bit verification code'\n",
    "    if dict_data.get(dict_key) == None:\n",
    "        dict_data[dict_key] = dict_data.get(dict_key, 0) + 1\n",
    "    else:\n",
    "        dict_data[dict_key] = dict_data.get(dict_key, 0) + 1\n",
    "\n",
    "# print(dict_rst)\n",
    "\n",
    "# 直方图\n",
    "labels_data = tuple(dict_data.keys())\n",
    "count_data = np.array(list(dict_data.values()))\n",
    "\n",
    "x = np.arange(len(labels_data))   \n",
    "\n",
    "plt.figure()\n",
    "ax1 = plt.axes([0.16, 0.12, 0.77, 0.77])\n",
    "\n",
    "rects = ax1.bar(x, count_data, align='center', color='g', alpha=0.5)\n",
    "# 标数\n",
    "def autolabel(rects):\n",
    "    for rect in rects:\n",
    "        height = rect.get_height()\n",
    "        plt.text(rect.get_x()+0.2*rect.get_width(), 1.03*height, '%s' % int(height))\n",
    "autolabel(rects)\n",
    "plt.xlim(-1, 4)\n",
    "plt.xlabel('labels', size=14, color='k')\n",
    "plt.ylabel('count', size=14, color='k')\n",
    "ax1.set_xticks(x)\n",
    "ax1.set_xticklabels(labels_data)\n",
    "\n",
    "plt.show()\n",
    "\n",
    "\n",
    "# pie\n",
    " \n",
    "plt.axes(aspect = 1)#使x y轴比例相同\n",
    " \n",
    "plt.pie(x=count_data, labels=labels_data, autopct='%.0f%%', pctdistance=0.7)#autopct显示百分比\n",
    "plt.title('label-count')\n",
    "plt.show()"
   ]
  }
 ],
 "metadata": {
  "kernelspec": {
   "display_name": "Python 3",
   "language": "python",
   "name": "python3"
  },
  "language_info": {
   "codemirror_mode": {
    "name": "ipython",
    "version": 3
   },
   "file_extension": ".py",
   "mimetype": "text/x-python",
   "name": "python",
   "nbconvert_exporter": "python",
   "pygments_lexer": "ipython3",
   "version": "3.6.2"
  }
 },
 "nbformat": 4,
 "nbformat_minor": 2
}
